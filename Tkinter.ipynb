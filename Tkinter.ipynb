{
 "cells": [
  {
   "cell_type": "code",
   "execution_count": 1,
   "metadata": {
    "collapsed": true
   },
   "outputs": [],
   "source": [
    "import tkinter as tk\n",
    "window = tk.Tk()\n",
    "window.title('my window')\n",
    "window.geometry('500x500')\n",
    "var = tk.StringVar()\n",
    "l = tk.Label(window, textvariable = var, bg = 'green',width=40,height=10)\n"
   ]
  },
  {
   "cell_type": "code",
   "execution_count": 2,
   "metadata": {
    "collapsed": true
   },
   "outputs": [],
   "source": [
    "l.pack()\n",
    "on_hit = False\n",
    "def hit_me():\n",
    "    global on_hit\n",
    "    if on_hit == False:\n",
    "        on_hit = True\n",
    "        var.set('you hit me')\n",
    "    else:\n",
    "        on_hit=False\n",
    "        var.set('')\n",
    "b = tk.Button(window,text = 'hit me',width = 40, height = 10 ,command =hit_me)\n",
    "b.pack()\n",
    "window.mainloop()"
   ]
  },
  {
   "cell_type": "code",
   "execution_count": 3,
   "metadata": {
    "collapsed": true
   },
   "outputs": [],
   "source": [
    "import tkinter as tk\n",
    "\n",
    "window = tk.Tk()\n",
    "window.title('my window')\n",
    "\n",
    "\n",
    "window.geometry('500x400')\n",
    "\n",
    "def insert_point():\n",
    "    var = e.get()\n",
    "    t.insert('insert',var)\n",
    "def insert_end():\n",
    "    var = e.get()\n",
    "    t.insert('end',var)\n",
    "e = tk.Entry(window)\n",
    "e.pack()\n",
    "b1 = tk.Button(window, text = 'insert point',width = 15,height = 2,command = insert_point)\n",
    "b1.pack()\n",
    "b2 = tk.Button(window,text = 'insert end',width = 15,height = 2,command = insert_end)\n",
    "b2.pack()\n",
    "t = tk.Text(window, height = 20)\n",
    "t.pack()\n",
    "\n",
    "window.mainloop()\n"
   ]
  },
  {
   "cell_type": "code",
   "execution_count": 4,
   "metadata": {
    "collapsed": true
   },
   "outputs": [],
   "source": [
    "window = tk.Tk()\n",
    "window.title('Listbox')\n",
    "window.geometry('500x400')\n",
    "var1 = tk.StringVar()\n",
    "l = tk.Label(window,bg = 'yellow',width = 20,textvariable = var1)\n",
    "l.pack()\n",
    "def print_selection():\n",
    "    va = ib.get(ib.curselection())\n",
    "    var1.set(va)\n",
    "b1 = tk.Button(window,text = 'print selection',height = 2,width =15,command = print_selection)\n",
    "b1.pack()\n",
    "var2 = tk.StringVar()\n",
    "var2.set([11,22,33,44])\n",
    "ib = tk.Listbox(window, listvariable = var2)\n",
    "list_items = [1,2,3,4]\n",
    "for i in list_items:\n",
    "    ib.insert('end',i)\n",
    "ib.pack()\n",
    "window.mainloop()"
   ]
  },
  {
   "cell_type": "code",
   "execution_count": 5,
   "metadata": {
    "collapsed": true
   },
   "outputs": [],
   "source": [
    "window = tk.Tk()\n",
    "window.title('radiobutton')\n",
    "window.geometry('500x400')\n",
    "var = tk.StringVar()\n",
    "l = tk.Label(window, text = 'empty', width = 20,height=2)\n",
    "l.pack()\n",
    "def print_i():\n",
    "    l.config(text = 'you have selected'+var.get())\n",
    "se1 = tk.Radiobutton(window, text = 'selection A', variable = var, value = 'A',command = print_i)\n",
    "se1.pack()\n",
    "se2 = tk.Radiobutton(window, text = 'selection B', variable = var, value = 'B',command = print_i)\n",
    "se2.pack()\n",
    "se3 = tk.Radiobutton(window, text = 'selection C', variable = var, value = 'C',command = print_i)\n",
    "se3.pack()\n",
    "window.mainloop()"
   ]
  },
  {
   "cell_type": "code",
   "execution_count": 6,
   "metadata": {
    "collapsed": true
   },
   "outputs": [],
   "source": [
    "window = tk.Tk()\n",
    "window.title('Scale')\n",
    "window.geometry('500x400')\n",
    "var = tk.StringVar()\n",
    "l = tk.Label(window, text = 'empty', width = 30,height=2)\n",
    "l.pack()\n",
    "def print_i(v):\n",
    "    l.config(text = 'you have selected'+v)\n",
    "s = tk.Scale(window, label = 'try me',from_=5,to=11,orient = tk.HORIZONTAL,length = 400,showvalue=0, tickinterval = 3 ,resolution = 0.01,command = print_i)\n",
    "s.pack()\n",
    "window.mainloop() "
   ]
  },
  {
   "cell_type": "code",
   "execution_count": 7,
   "metadata": {
    "collapsed": true
   },
   "outputs": [],
   "source": [
    "window = tk.Tk()\n",
    "window.title('Scale')\n",
    "window.geometry('500x400')\n",
    "l = tk.Label(window, text = 'empty', width = 30,height=2)\n",
    "l.pack()\n",
    "\n",
    "\n",
    "def print_i():\n",
    "    if (var1.get() == 1) & (var2.get() == 0):   #如果选中第一个选项，未选中第二个选项\n",
    "        l.config(text='I love only Python ')\n",
    "    elif (var1.get() == 0) & (var2.get() == 1): #如果选中第二个选项，未选中第一个选项\n",
    "        l.config(text='I love only C++')\n",
    "    elif (var1.get() == 0) & (var2.get() == 0):  #如果两个选项都未选中\n",
    "        l.config(text='I do not love either')\n",
    "    else:\n",
    "        l.config(text='i love both')             #如果两个选项都选中\n",
    "var1 = tk.IntVar()\n",
    "var2 = tk.IntVar()\n",
    "s1 = tk.Checkbutton(window,variable = var1, text = 'python',onvalue = 1,offvalue = 0,\n",
    "                   command = print_i)\n",
    "s2 = tk.Checkbutton(window,variable = var2, text = 'c++',onvalue = 1,offvalue = 0,\n",
    "                   command = print_i)\n",
    "s1.pack()\n",
    "s2.pack()\n",
    "window.mainloop() "
   ]
  },
  {
   "cell_type": "code",
   "execution_count": 8,
   "metadata": {
    "collapsed": true
   },
   "outputs": [],
   "source": [
    "window = tk.Tk()\n",
    "window.title('Canvas')\n",
    "window.geometry('500x400')\n",
    "canvas = tk.Canvas(window,bg = 'blue', height = 200,width = 500)\n",
    "image_file = tk.PhotoImage(file='/home/shihao-z/图片/aff6e44747a6912cbd6e24cec5630484.gif')\n",
    "x0,y0,x1,y1 = 300,20,200,100\n",
    "image = canvas.create_image(10,10,anchor= 'nw', image = image_file)\n",
    "line = canvas.create_line(50,50,100,100)\n",
    "arcl = canvas.create_arc(50,50,100,100,start=0,extent=180)\n",
    "arc2 = canvas.create_arc(40,40,100,100,start=0,extent=180)\n",
    "oval = canvas.create_oval(40,40,100,100)\n",
    "rec = canvas.create_rectangle(x0,y0,x1,y1)\n",
    "canvas.pack()\n",
    "def movierec():\n",
    "    canvas.move(rec,0,2)\n",
    "s = tk.Button(window, text = 'move',height = 2,width=100, command = movierec)\n",
    "s.pack()\n",
    "window.mainloop() "
   ]
  },
  {
   "cell_type": "code",
   "execution_count": null,
   "metadata": {
    "collapsed": true
   },
   "outputs": [],
   "source": []
  }
 ],
 "metadata": {
  "kernelspec": {
   "display_name": "Python 3",
   "language": "python",
   "name": "python3"
  },
  "language_info": {
   "codemirror_mode": {
    "name": "ipython",
    "version": 3
   },
   "file_extension": ".py",
   "mimetype": "text/x-python",
   "name": "python",
   "nbconvert_exporter": "python",
   "pygments_lexer": "ipython3",
   "version": "3.6.3"
  }
 },
 "nbformat": 4,
 "nbformat_minor": 2
}
